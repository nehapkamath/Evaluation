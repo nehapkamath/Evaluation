{
 "cells": [
  {
   "cell_type": "markdown",
   "metadata": {},
   "source": [
    "# Problem Statement:\n",
    "Flight ticket prices can be something hard to guess, today we might see a price, check out the price of the same flight tomorrow, it will be a different story. We might have often heard travellers saying that flight ticket prices are so unpredictable. Here you will be provided with prices of flight tickets for various airlines between the months of March and June of 2019 and between various cities.\n",
    "\n",
    "Size of training set: 10683 records\n",
    "\n",
    "Size of test set: 2671 records\n",
    "\n",
    "FEATURES:\n",
    "Airline: The name of the airline.\n",
    "\n",
    "Date_of_Journey: The date of the journey\n",
    "\n",
    "Source: The source from which the service begins.\n",
    "\n",
    "Destination: The destination where the service ends.\n",
    "\n",
    "Route: The route taken by the flight to reach the destination.\n",
    "\n",
    "Dep_Time: The time when the journey starts from the source.\n",
    "\n",
    "Arrival_Time: Time of arrival at the destination.\n",
    "\n",
    "Duration: Total duration of the flight.\n",
    "\n",
    "Total_Stops: Total stops between the source and destination.\n",
    "\n",
    "Additional_Info: Additional information about the flight\n",
    "\n",
    "Price: The price of the ticket"
   ]
  },
  {
   "cell_type": "markdown",
   "metadata": {},
   "source": [
    "# Import Libraries"
   ]
  },
  {
   "cell_type": "code",
   "execution_count": 397,
   "metadata": {},
   "outputs": [],
   "source": [
    "#data processing\n",
    "import pandas as pd\n",
    "import numpy as np\n",
    "import re\n",
    "\n",
    "#data visualisation\n",
    "import seaborn as sns\n",
    "import matplotlib.pyplot as plt\n",
    "from pandas_profiling import ProfileReport\n",
    "\n",
    "# machine learning algorithms\n",
    "import sklearn\n",
    "from sklearn.preprocessing import LabelEncoder, StandardScaler\n",
    "from sklearn.model_selection import train_test_split, GridSearchCV, cross_val_score\n",
    "from sklearn.linear_model import LinearRegression, Ridge, Lasso, ElasticNet\n",
    "from sklearn.ensemble import RandomForestRegressor, GradientBoostingRegressor, AdaBoostRegressor\n",
    "from xgboost import XGBRegressor\n",
    "from sklearn.tree import DecisionTreeRegressor\n",
    "from sklearn.neighbors import KNeighborsRegressor\n",
    "from sklearn.metrics import r2_score, mean_squared_error, mean_absolute_error\n",
    "\n",
    "import warnings\n",
    "warnings.filterwarnings('ignore')"
   ]
  },
  {
   "cell_type": "markdown",
   "metadata": {},
   "source": [
    "# Load Dataset"
   ]
  },
  {
   "cell_type": "code",
   "execution_count": 332,
   "metadata": {},
   "outputs": [],
   "source": [
    "train=pd.read_excel('Data_Train.xlsx')"
   ]
  },
  {
   "cell_type": "code",
   "execution_count": 333,
   "metadata": {},
   "outputs": [],
   "source": [
    "test=pd.read_excel('Test_set.xlsx')"
   ]
  },
  {
   "cell_type": "code",
   "execution_count": 334,
   "metadata": {},
   "outputs": [
    {
     "data": {
      "text/plain": [
       "((10683, 11), (2671, 10))"
      ]
     },
     "execution_count": 334,
     "metadata": {},
     "output_type": "execute_result"
    }
   ],
   "source": [
    "train.shape,test.shape"
   ]
  },
  {
   "cell_type": "code",
   "execution_count": 335,
   "metadata": {},
   "outputs": [
    {
     "data": {
      "text/html": [
       "<div>\n",
       "<style scoped>\n",
       "    .dataframe tbody tr th:only-of-type {\n",
       "        vertical-align: middle;\n",
       "    }\n",
       "\n",
       "    .dataframe tbody tr th {\n",
       "        vertical-align: top;\n",
       "    }\n",
       "\n",
       "    .dataframe thead th {\n",
       "        text-align: right;\n",
       "    }\n",
       "</style>\n",
       "<table border=\"1\" class=\"dataframe\">\n",
       "  <thead>\n",
       "    <tr style=\"text-align: right;\">\n",
       "      <th></th>\n",
       "      <th>Airline</th>\n",
       "      <th>Date_of_Journey</th>\n",
       "      <th>Source</th>\n",
       "      <th>Destination</th>\n",
       "      <th>Route</th>\n",
       "      <th>Dep_Time</th>\n",
       "      <th>Arrival_Time</th>\n",
       "      <th>Duration</th>\n",
       "      <th>Total_Stops</th>\n",
       "      <th>Additional_Info</th>\n",
       "      <th>Price</th>\n",
       "    </tr>\n",
       "  </thead>\n",
       "  <tbody>\n",
       "    <tr>\n",
       "      <th>0</th>\n",
       "      <td>IndiGo</td>\n",
       "      <td>24/03/2019</td>\n",
       "      <td>Banglore</td>\n",
       "      <td>New Delhi</td>\n",
       "      <td>BLR → DEL</td>\n",
       "      <td>22:20</td>\n",
       "      <td>01:10 22 Mar</td>\n",
       "      <td>2h 50m</td>\n",
       "      <td>non-stop</td>\n",
       "      <td>No info</td>\n",
       "      <td>3897</td>\n",
       "    </tr>\n",
       "    <tr>\n",
       "      <th>1</th>\n",
       "      <td>Air India</td>\n",
       "      <td>1/05/2019</td>\n",
       "      <td>Kolkata</td>\n",
       "      <td>Banglore</td>\n",
       "      <td>CCU → IXR → BBI → BLR</td>\n",
       "      <td>05:50</td>\n",
       "      <td>13:15</td>\n",
       "      <td>7h 25m</td>\n",
       "      <td>2 stops</td>\n",
       "      <td>No info</td>\n",
       "      <td>7662</td>\n",
       "    </tr>\n",
       "    <tr>\n",
       "      <th>2</th>\n",
       "      <td>Jet Airways</td>\n",
       "      <td>9/06/2019</td>\n",
       "      <td>Delhi</td>\n",
       "      <td>Cochin</td>\n",
       "      <td>DEL → LKO → BOM → COK</td>\n",
       "      <td>09:25</td>\n",
       "      <td>04:25 10 Jun</td>\n",
       "      <td>19h</td>\n",
       "      <td>2 stops</td>\n",
       "      <td>No info</td>\n",
       "      <td>13882</td>\n",
       "    </tr>\n",
       "    <tr>\n",
       "      <th>3</th>\n",
       "      <td>IndiGo</td>\n",
       "      <td>12/05/2019</td>\n",
       "      <td>Kolkata</td>\n",
       "      <td>Banglore</td>\n",
       "      <td>CCU → NAG → BLR</td>\n",
       "      <td>18:05</td>\n",
       "      <td>23:30</td>\n",
       "      <td>5h 25m</td>\n",
       "      <td>1 stop</td>\n",
       "      <td>No info</td>\n",
       "      <td>6218</td>\n",
       "    </tr>\n",
       "    <tr>\n",
       "      <th>4</th>\n",
       "      <td>IndiGo</td>\n",
       "      <td>01/03/2019</td>\n",
       "      <td>Banglore</td>\n",
       "      <td>New Delhi</td>\n",
       "      <td>BLR → NAG → DEL</td>\n",
       "      <td>16:50</td>\n",
       "      <td>21:35</td>\n",
       "      <td>4h 45m</td>\n",
       "      <td>1 stop</td>\n",
       "      <td>No info</td>\n",
       "      <td>13302</td>\n",
       "    </tr>\n",
       "  </tbody>\n",
       "</table>\n",
       "</div>"
      ],
      "text/plain": [
       "       Airline Date_of_Journey    Source Destination                  Route  \\\n",
       "0       IndiGo      24/03/2019  Banglore   New Delhi              BLR → DEL   \n",
       "1    Air India       1/05/2019   Kolkata    Banglore  CCU → IXR → BBI → BLR   \n",
       "2  Jet Airways       9/06/2019     Delhi      Cochin  DEL → LKO → BOM → COK   \n",
       "3       IndiGo      12/05/2019   Kolkata    Banglore        CCU → NAG → BLR   \n",
       "4       IndiGo      01/03/2019  Banglore   New Delhi        BLR → NAG → DEL   \n",
       "\n",
       "  Dep_Time  Arrival_Time Duration Total_Stops Additional_Info  Price  \n",
       "0    22:20  01:10 22 Mar   2h 50m    non-stop         No info   3897  \n",
       "1    05:50         13:15   7h 25m     2 stops         No info   7662  \n",
       "2    09:25  04:25 10 Jun      19h     2 stops         No info  13882  \n",
       "3    18:05         23:30   5h 25m      1 stop         No info   6218  \n",
       "4    16:50         21:35   4h 45m      1 stop         No info  13302  "
      ]
     },
     "execution_count": 335,
     "metadata": {},
     "output_type": "execute_result"
    }
   ],
   "source": [
    "#checking the first 5 rows of train set\n",
    "train.head()"
   ]
  },
  {
   "cell_type": "code",
   "execution_count": 336,
   "metadata": {},
   "outputs": [
    {
     "data": {
      "text/html": [
       "<div>\n",
       "<style scoped>\n",
       "    .dataframe tbody tr th:only-of-type {\n",
       "        vertical-align: middle;\n",
       "    }\n",
       "\n",
       "    .dataframe tbody tr th {\n",
       "        vertical-align: top;\n",
       "    }\n",
       "\n",
       "    .dataframe thead th {\n",
       "        text-align: right;\n",
       "    }\n",
       "</style>\n",
       "<table border=\"1\" class=\"dataframe\">\n",
       "  <thead>\n",
       "    <tr style=\"text-align: right;\">\n",
       "      <th></th>\n",
       "      <th>Airline</th>\n",
       "      <th>Date_of_Journey</th>\n",
       "      <th>Source</th>\n",
       "      <th>Destination</th>\n",
       "      <th>Route</th>\n",
       "      <th>Dep_Time</th>\n",
       "      <th>Arrival_Time</th>\n",
       "      <th>Duration</th>\n",
       "      <th>Total_Stops</th>\n",
       "      <th>Additional_Info</th>\n",
       "    </tr>\n",
       "  </thead>\n",
       "  <tbody>\n",
       "    <tr>\n",
       "      <th>0</th>\n",
       "      <td>Jet Airways</td>\n",
       "      <td>6/06/2019</td>\n",
       "      <td>Delhi</td>\n",
       "      <td>Cochin</td>\n",
       "      <td>DEL → BOM → COK</td>\n",
       "      <td>17:30</td>\n",
       "      <td>04:25 07 Jun</td>\n",
       "      <td>10h 55m</td>\n",
       "      <td>1 stop</td>\n",
       "      <td>No info</td>\n",
       "    </tr>\n",
       "    <tr>\n",
       "      <th>1</th>\n",
       "      <td>IndiGo</td>\n",
       "      <td>12/05/2019</td>\n",
       "      <td>Kolkata</td>\n",
       "      <td>Banglore</td>\n",
       "      <td>CCU → MAA → BLR</td>\n",
       "      <td>06:20</td>\n",
       "      <td>10:20</td>\n",
       "      <td>4h</td>\n",
       "      <td>1 stop</td>\n",
       "      <td>No info</td>\n",
       "    </tr>\n",
       "    <tr>\n",
       "      <th>2</th>\n",
       "      <td>Jet Airways</td>\n",
       "      <td>21/05/2019</td>\n",
       "      <td>Delhi</td>\n",
       "      <td>Cochin</td>\n",
       "      <td>DEL → BOM → COK</td>\n",
       "      <td>19:15</td>\n",
       "      <td>19:00 22 May</td>\n",
       "      <td>23h 45m</td>\n",
       "      <td>1 stop</td>\n",
       "      <td>In-flight meal not included</td>\n",
       "    </tr>\n",
       "    <tr>\n",
       "      <th>3</th>\n",
       "      <td>Multiple carriers</td>\n",
       "      <td>21/05/2019</td>\n",
       "      <td>Delhi</td>\n",
       "      <td>Cochin</td>\n",
       "      <td>DEL → BOM → COK</td>\n",
       "      <td>08:00</td>\n",
       "      <td>21:00</td>\n",
       "      <td>13h</td>\n",
       "      <td>1 stop</td>\n",
       "      <td>No info</td>\n",
       "    </tr>\n",
       "    <tr>\n",
       "      <th>4</th>\n",
       "      <td>Air Asia</td>\n",
       "      <td>24/06/2019</td>\n",
       "      <td>Banglore</td>\n",
       "      <td>Delhi</td>\n",
       "      <td>BLR → DEL</td>\n",
       "      <td>23:55</td>\n",
       "      <td>02:45 25 Jun</td>\n",
       "      <td>2h 50m</td>\n",
       "      <td>non-stop</td>\n",
       "      <td>No info</td>\n",
       "    </tr>\n",
       "  </tbody>\n",
       "</table>\n",
       "</div>"
      ],
      "text/plain": [
       "             Airline Date_of_Journey    Source Destination            Route  \\\n",
       "0        Jet Airways       6/06/2019     Delhi      Cochin  DEL → BOM → COK   \n",
       "1             IndiGo      12/05/2019   Kolkata    Banglore  CCU → MAA → BLR   \n",
       "2        Jet Airways      21/05/2019     Delhi      Cochin  DEL → BOM → COK   \n",
       "3  Multiple carriers      21/05/2019     Delhi      Cochin  DEL → BOM → COK   \n",
       "4           Air Asia      24/06/2019  Banglore       Delhi        BLR → DEL   \n",
       "\n",
       "  Dep_Time  Arrival_Time Duration Total_Stops              Additional_Info  \n",
       "0    17:30  04:25 07 Jun  10h 55m      1 stop                      No info  \n",
       "1    06:20         10:20       4h      1 stop                      No info  \n",
       "2    19:15  19:00 22 May  23h 45m      1 stop  In-flight meal not included  \n",
       "3    08:00         21:00      13h      1 stop                      No info  \n",
       "4    23:55  02:45 25 Jun   2h 50m    non-stop                      No info  "
      ]
     },
     "execution_count": 336,
     "metadata": {},
     "output_type": "execute_result"
    }
   ],
   "source": [
    "#checking the first 5 rows of test set\n",
    "test.head()"
   ]
  },
  {
   "cell_type": "code",
   "execution_count": 337,
   "metadata": {},
   "outputs": [
    {
     "data": {
      "text/plain": [
       "((10683, 11), (2671, 10))"
      ]
     },
     "execution_count": 337,
     "metadata": {},
     "output_type": "execute_result"
    }
   ],
   "source": [
    "#checking size of both datasets\n",
    "train.shape  ,  test.shape"
   ]
  },
  {
   "cell_type": "code",
   "execution_count": 338,
   "metadata": {},
   "outputs": [
    {
     "data": {
      "text/html": [
       "<div>\n",
       "<style scoped>\n",
       "    .dataframe tbody tr th:only-of-type {\n",
       "        vertical-align: middle;\n",
       "    }\n",
       "\n",
       "    .dataframe tbody tr th {\n",
       "        vertical-align: top;\n",
       "    }\n",
       "\n",
       "    .dataframe thead th {\n",
       "        text-align: right;\n",
       "    }\n",
       "</style>\n",
       "<table border=\"1\" class=\"dataframe\">\n",
       "  <thead>\n",
       "    <tr style=\"text-align: right;\">\n",
       "      <th></th>\n",
       "      <th>Price</th>\n",
       "    </tr>\n",
       "  </thead>\n",
       "  <tbody>\n",
       "    <tr>\n",
       "      <th>count</th>\n",
       "      <td>10683.000000</td>\n",
       "    </tr>\n",
       "    <tr>\n",
       "      <th>mean</th>\n",
       "      <td>9087.064121</td>\n",
       "    </tr>\n",
       "    <tr>\n",
       "      <th>std</th>\n",
       "      <td>4611.359167</td>\n",
       "    </tr>\n",
       "    <tr>\n",
       "      <th>min</th>\n",
       "      <td>1759.000000</td>\n",
       "    </tr>\n",
       "    <tr>\n",
       "      <th>25%</th>\n",
       "      <td>5277.000000</td>\n",
       "    </tr>\n",
       "    <tr>\n",
       "      <th>50%</th>\n",
       "      <td>8372.000000</td>\n",
       "    </tr>\n",
       "    <tr>\n",
       "      <th>75%</th>\n",
       "      <td>12373.000000</td>\n",
       "    </tr>\n",
       "    <tr>\n",
       "      <th>max</th>\n",
       "      <td>79512.000000</td>\n",
       "    </tr>\n",
       "  </tbody>\n",
       "</table>\n",
       "</div>"
      ],
      "text/plain": [
       "              Price\n",
       "count  10683.000000\n",
       "mean    9087.064121\n",
       "std     4611.359167\n",
       "min     1759.000000\n",
       "25%     5277.000000\n",
       "50%     8372.000000\n",
       "75%    12373.000000\n",
       "max    79512.000000"
      ]
     },
     "execution_count": 338,
     "metadata": {},
     "output_type": "execute_result"
    }
   ],
   "source": [
    "train.describe()"
   ]
  },
  {
   "cell_type": "code",
   "execution_count": 339,
   "metadata": {},
   "outputs": [
    {
     "name": "stdout",
     "output_type": "stream",
     "text": [
      "<class 'pandas.core.frame.DataFrame'>\n",
      "RangeIndex: 10683 entries, 0 to 10682\n",
      "Data columns (total 11 columns):\n",
      " #   Column           Non-Null Count  Dtype \n",
      "---  ------           --------------  ----- \n",
      " 0   Airline          10683 non-null  object\n",
      " 1   Date_of_Journey  10683 non-null  object\n",
      " 2   Source           10683 non-null  object\n",
      " 3   Destination      10683 non-null  object\n",
      " 4   Route            10682 non-null  object\n",
      " 5   Dep_Time         10683 non-null  object\n",
      " 6   Arrival_Time     10683 non-null  object\n",
      " 7   Duration         10683 non-null  object\n",
      " 8   Total_Stops      10682 non-null  object\n",
      " 9   Additional_Info  10683 non-null  object\n",
      " 10  Price            10683 non-null  int64 \n",
      "dtypes: int64(1), object(10)\n",
      "memory usage: 918.2+ KB\n"
     ]
    }
   ],
   "source": [
    "train.info()"
   ]
  },
  {
   "cell_type": "markdown",
   "metadata": {},
   "source": [
    "Train dataset contains 10683 observations for flight prices with 10 parameters and target variable Price.\n",
    "\n",
    "It contains certain one null value in Route and Total stops."
   ]
  },
  {
   "cell_type": "code",
   "execution_count": 340,
   "metadata": {},
   "outputs": [
    {
     "name": "stdout",
     "output_type": "stream",
     "text": [
      "<class 'pandas.core.frame.DataFrame'>\n",
      "RangeIndex: 2671 entries, 0 to 2670\n",
      "Data columns (total 10 columns):\n",
      " #   Column           Non-Null Count  Dtype \n",
      "---  ------           --------------  ----- \n",
      " 0   Airline          2671 non-null   object\n",
      " 1   Date_of_Journey  2671 non-null   object\n",
      " 2   Source           2671 non-null   object\n",
      " 3   Destination      2671 non-null   object\n",
      " 4   Route            2671 non-null   object\n",
      " 5   Dep_Time         2671 non-null   object\n",
      " 6   Arrival_Time     2671 non-null   object\n",
      " 7   Duration         2671 non-null   object\n",
      " 8   Total_Stops      2671 non-null   object\n",
      " 9   Additional_Info  2671 non-null   object\n",
      "dtypes: object(10)\n",
      "memory usage: 208.8+ KB\n"
     ]
    }
   ],
   "source": [
    "test.info()"
   ]
  },
  {
   "cell_type": "markdown",
   "metadata": {},
   "source": [
    "Test dataset contains 2671 observations for doctor consultation fees with 10 parameters.\n",
    "\n",
    "We observe certain no null values in this set."
   ]
  },
  {
   "cell_type": "code",
   "execution_count": 341,
   "metadata": {},
   "outputs": [
    {
     "data": {
      "text/plain": [
       "Airline            0\n",
       "Date_of_Journey    0\n",
       "Source             0\n",
       "Destination        0\n",
       "Route              1\n",
       "Dep_Time           0\n",
       "Arrival_Time       0\n",
       "Duration           0\n",
       "Total_Stops        1\n",
       "Additional_Info    0\n",
       "Price              0\n",
       "dtype: int64"
      ]
     },
     "execution_count": 341,
     "metadata": {},
     "output_type": "execute_result"
    }
   ],
   "source": [
    "train.isnull().sum()"
   ]
  },
  {
   "cell_type": "code",
   "execution_count": 342,
   "metadata": {},
   "outputs": [],
   "source": [
    "#dropping null data\n",
    "train.dropna(inplace=True)"
   ]
  },
  {
   "cell_type": "markdown",
   "metadata": {},
   "source": [
    "Feature Engineering"
   ]
  },
  {
   "cell_type": "code",
   "execution_count": 343,
   "metadata": {},
   "outputs": [
    {
     "data": {
      "text/plain": [
       "No info                         8344\n",
       "In-flight meal not included     1982\n",
       "No check-in baggage included     320\n",
       "1 Long layover                    19\n",
       "Change airports                    7\n",
       "Business class                     4\n",
       "No Info                            3\n",
       "1 Short layover                    1\n",
       "2 Long layover                     1\n",
       "Red-eye flight                     1\n",
       "Name: Additional_Info, dtype: int64"
      ]
     },
     "execution_count": 343,
     "metadata": {},
     "output_type": "execute_result"
    }
   ],
   "source": [
    "#check values in additional info\n",
    "train[\"Additional_Info\"].value_counts()"
   ]
  },
  {
   "cell_type": "code",
   "execution_count": 344,
   "metadata": {},
   "outputs": [
    {
     "data": {
      "text/plain": [
       "No info                         2148\n",
       "In-flight meal not included      444\n",
       "No check-in baggage included      76\n",
       "1 Long layover                     1\n",
       "Business class                     1\n",
       "Change airports                    1\n",
       "Name: Additional_Info, dtype: int64"
      ]
     },
     "execution_count": 344,
     "metadata": {},
     "output_type": "execute_result"
    }
   ],
   "source": [
    "test[\"Additional_Info\"].value_counts()"
   ]
  },
  {
   "cell_type": "code",
   "execution_count": 345,
   "metadata": {},
   "outputs": [],
   "source": [
    "#merge No info and No Info into 1 value in Train data\n",
    "train[\"Additional_Info\"] = train[\"Additional_Info\"].str.replace('No info', 'No Info')"
   ]
  },
  {
   "cell_type": "code",
   "execution_count": 346,
   "metadata": {},
   "outputs": [],
   "source": [
    "# Duration convert to minutes\n",
    "train['Duration']=train['Duration'].str.replace(\"h\", '*60').str.replace(' ','+').str.replace('m','*1').apply(eval)\n",
    "test['Duration']=test['Duration'].str.replace(\"h\", '*60').str.replace(' ','+').str.replace('m','*1').apply(eval)"
   ]
  },
  {
   "cell_type": "code",
   "execution_count": 347,
   "metadata": {},
   "outputs": [],
   "source": [
    "#Split Journey Date into Day, Year and Month attributes for Train data\n",
    "train[\"Day\"] = train['Date_of_Journey'].str.split('/').str[0].astype(int)\n",
    "train[\"Month\"] = train['Date_of_Journey'].str.split('/').str[1].astype(int)\n",
    "train.drop([\"Date_of_Journey\"], axis = 1, inplace = True)"
   ]
  },
  {
   "cell_type": "code",
   "execution_count": 348,
   "metadata": {},
   "outputs": [],
   "source": [
    "#Split Journey Date into Day, Year and Month attributes for Test data\n",
    "test[\"Day\"] = test['Date_of_Journey'].str.split('/').str[0].astype(int)\n",
    "test[\"Month\"] = test['Date_of_Journey'].str.split('/').str[1].astype(int)\n",
    "test.drop([\"Date_of_Journey\"], axis = 1, inplace = True)"
   ]
  },
  {
   "cell_type": "code",
   "execution_count": 349,
   "metadata": {},
   "outputs": [],
   "source": [
    "#extracting numerics from stops feature- Train\n",
    "train['Total_Stops'],_=train['Total_Stops'].str.split(' stops').str\n",
    "train['Total_Stops'],_=train['Total_Stops'].str.split(' stop').str"
   ]
  },
  {
   "cell_type": "code",
   "execution_count": 350,
   "metadata": {},
   "outputs": [],
   "source": [
    "train['Total_Stops']=train['Total_Stops'].apply(lambda x: 0 if 'non-stop' in x else x)"
   ]
  },
  {
   "cell_type": "code",
   "execution_count": 351,
   "metadata": {},
   "outputs": [],
   "source": [
    "#extracting numerics from stops feature- Test\n",
    "test['Total_Stops'],_=test['Total_Stops'].str.split(' stops').str\n",
    "test['Total_Stops'],_=test['Total_Stops'].str.split(' stop').str"
   ]
  },
  {
   "cell_type": "code",
   "execution_count": 352,
   "metadata": {},
   "outputs": [],
   "source": [
    "test['Total_Stops']=test['Total_Stops'].apply(lambda x: 0 if 'non-stop' in x else x)"
   ]
  },
  {
   "cell_type": "code",
   "execution_count": 353,
   "metadata": {},
   "outputs": [],
   "source": [
    "# Dep_Time\n",
    "train[\"Dep_Hour\"] = pd.to_datetime(train[\"Dep_Time\"]).dt.hour\n",
    "train[\"Dep_Mins\"] = pd.to_datetime(train[\"Dep_Time\"]).dt.minute\n",
    "train.drop([\"Dep_Time\"], axis = 1, inplace = True)"
   ]
  },
  {
   "cell_type": "code",
   "execution_count": 354,
   "metadata": {},
   "outputs": [],
   "source": [
    "# Dep_Time\n",
    "test[\"Dep_Hour\"] = pd.to_datetime(test[\"Dep_Time\"]).dt.hour\n",
    "test[\"Dep_Mins\"] = pd.to_datetime(test[\"Dep_Time\"]).dt.minute\n",
    "test.drop([\"Dep_Time\"], axis = 1, inplace = True)"
   ]
  },
  {
   "cell_type": "code",
   "execution_count": 355,
   "metadata": {},
   "outputs": [],
   "source": [
    "# extract Arrival Time\n",
    "train[\"Arrival_Hour\"] = pd.to_datetime(train.Arrival_Time).dt.hour\n",
    "train[\"Arrival_Mins\"] = pd.to_datetime(train.Arrival_Time).dt.minute\n",
    "train.drop([\"Arrival_Time\"], axis = 1, inplace = True)"
   ]
  },
  {
   "cell_type": "code",
   "execution_count": 356,
   "metadata": {},
   "outputs": [],
   "source": [
    "# extract Arrival Time - Test\n",
    "test[\"Arrival_Hour\"] = pd.to_datetime(test.Arrival_Time).dt.hour\n",
    "test[\"Arrival_Mins\"] = pd.to_datetime(test.Arrival_Time).dt.minute\n",
    "test.drop([\"Arrival_Time\"], axis = 1, inplace = True)"
   ]
  },
  {
   "cell_type": "markdown",
   "metadata": {},
   "source": [
    "# Exploratory Data Analysis (EDA)"
   ]
  },
  {
   "cell_type": "code",
   "execution_count": 412,
   "metadata": {},
   "outputs": [
    {
     "data": {
      "image/png": "[encoded data removed]",
      "text/plain": [
       "<Figure size 576x432 with 1 Axes>"
      ]
     },
     "metadata": {},
     "output_type": "display_data"
    }
   ],
   "source": [
    "plt.figure(figsize=(8,6))\n",
    "sns.distplot(train['Price'], bins=10)\n",
    "plt.title('Flight Prices', size=15)\n",
    "plt.xticks(rotation=90)\n",
    "plt.show()"
   ]
  },
  {
   "cell_type": "markdown",
   "metadata": {},
   "source": [
    "We see price concentration in the range of 1800-20000."
   ]
  },
  {
   "cell_type": "code",
   "execution_count": 358,
   "metadata": {},
   "outputs": [
    {
     "data": {
      "image/png": "[encoded data removed]",
      "text/plain": [
       "<Figure size 864x432 with 1 Axes>"
      ]
     },
     "metadata": {},
     "output_type": "display_data"
    }
   ],
   "source": [
    "plt.figure(figsize=(12,6))\n",
    "sns.countplot(train['Airline'], palette='Set1')\n",
    "plt.title('Number of Airlines', size=15)\n",
    "plt.xticks(rotation=90)\n",
    "plt.show()"
   ]
  },
  {
   "cell_type": "markdown",
   "metadata": {},
   "source": [
    "We see a few airlines dominating this space- Jet Airways, Indigo, Air India."
   ]
  },
  {
   "cell_type": "code",
   "execution_count": 359,
   "metadata": {},
   "outputs": [
    {
     "data": {
      "text/plain": [
       "Text(0, 0.5, 'Number of flights')"
      ]
     },
     "execution_count": 359,
     "metadata": {},
     "output_type": "execute_result"
    },
    {
     "data": {
      "image/png": "[encoded data removed]",
      "text/plain": [
       "<Figure size 576x360 with 1 Axes>"
      ]
     },
     "metadata": {},
     "output_type": "display_data"
    }
   ],
   "source": [
    "plt.figure(figsize=(8, 5))\n",
    "plt.title('Month-wise Flights', size=15)\n",
    "sns.countplot(train['Month'], palette=\"twilight\")\n",
    "plt.xlabel('Months')\n",
    "plt.ylabel('Number of flights')"
   ]
  },
  {
   "cell_type": "markdown",
   "metadata": {},
   "source": [
    "We see peak volume of fliers in the months of May, June and March."
   ]
  },
  {
   "cell_type": "code",
   "execution_count": 411,
   "metadata": {
    "scrolled": true
   },
   "outputs": [
    {
     "data": {
      "image/png": "[encoded data removed]",
      "text/plain": [
       "<Figure size 576x504 with 1 Axes>"
      ]
     },
     "metadata": {},
     "output_type": "display_data"
    }
   ],
   "source": [
    "plt.figure(figsize = (8, 7))\n",
    "plt.title('Price wrt Additional Information',size=15)\n",
    "sns.scatterplot(train['Additional_Info'], train['Price'])\n",
    "plt.xticks(rotation = 90)\n",
    "plt.xlabel('Information')\n",
    "plt.ylabel('Price of ticket')"
   ]
  },
  {
   "cell_type": "markdown",
   "metadata": {},
   "source": [
    "Predictably, we see that Price is higher for Business class fliers and for those with a long layover. \n",
    "For fliers without meals or check-in baggage options, prices are lower."
   ]
  },
  {
   "cell_type": "code",
   "execution_count": 361,
   "metadata": {},
   "outputs": [
    {
     "data": {
      "image/png": "[encoded data removed]",
      "text/plain": [
       "<Figure size 864x432 with 1 Axes>"
      ]
     },
     "metadata": {},
     "output_type": "display_data"
    }
   ],
   "source": [
    "plt.figure(figsize=(12,6))\n",
    "sns.barplot(train['Airline'], train['Price'], palette='autumn')\n",
    "plt.title('Flight Prices wrt Airlines', size=15)\n",
    "plt.xticks(rotation=90)\n",
    "plt.show()"
   ]
  },
  {
   "cell_type": "markdown",
   "metadata": {},
   "source": [
    "We see that Flight Prices are peaked for Jet Airways Business in comparison with other flights."
   ]
  },
  {
   "cell_type": "code",
   "execution_count": 362,
   "metadata": {},
   "outputs": [
    {
     "data": {
      "image/png": "[encoded data removed]",
      "text/plain": [
       "<Figure size 720x432 with 1 Axes>"
      ]
     },
     "metadata": {},
     "output_type": "display_data"
    }
   ],
   "source": [
    "plt.figure(figsize=(10,6))\n",
    "sns.barplot(train['Total_Stops'], train['Price'], palette='spring')\n",
    "plt.title('Price wrt No. of Stops', size=15)\n",
    "plt.xticks(rotation=90)\n",
    "plt.show()"
   ]
  },
  {
   "cell_type": "markdown",
   "metadata": {},
   "source": [
    "We see that higher number of stops imply higher flight prices."
   ]
  },
  {
   "cell_type": "markdown",
   "metadata": {},
   "source": [
    "# Data Pre-Processing"
   ]
  },
  {
   "cell_type": "code",
   "execution_count": 363,
   "metadata": {},
   "outputs": [],
   "source": [
    "#converting number of stops to numerics\n",
    "train['Total_Stops']=pd.to_numeric(train['Total_Stops'])\n",
    "test['Total_Stops']=pd.to_numeric(test['Total_Stops'])"
   ]
  },
  {
   "cell_type": "code",
   "execution_count": 366,
   "metadata": {},
   "outputs": [],
   "source": [
    "#Encoding categorical data using Label Encoder- Train\n",
    "\n",
    "columns = ['Airline','Source','Destination','Route','Additional_Info']\n",
    "\n",
    "for i in columns:\n",
    "    LE=LabelEncoder()\n",
    "    train[i] = LE.fit_transform(train[i])"
   ]
  },
  {
   "cell_type": "code",
   "execution_count": 367,
   "metadata": {},
   "outputs": [],
   "source": [
    "#Encoding categorical data using Label Encoder- Test\n",
    "\n",
    "for i in columns:\n",
    "    LE=LabelEncoder()\n",
    "    test[i] = LE.fit_transform(test[i])"
   ]
  },
  {
   "cell_type": "code",
   "execution_count": 368,
   "metadata": {},
   "outputs": [],
   "source": [
    "#splitting dataframe into x and y\n",
    "x = train.drop('Price', axis = 1)\n",
    "y = train['Price']"
   ]
  },
  {
   "cell_type": "code",
   "execution_count": 369,
   "metadata": {},
   "outputs": [
    {
     "data": {
      "text/plain": [
       "Airline            0.731057\n",
       "Source            -0.424023\n",
       "Destination        1.244046\n",
       "Route             -0.501911\n",
       "Duration           0.861411\n",
       "Total_Stops        0.317109\n",
       "Additional_Info   -3.258628\n",
       "Day                0.118174\n",
       "Month             -0.387409\n",
       "Dep_Hour           0.112924\n",
       "Dep_Mins           0.167234\n",
       "Arrival_Hour      -0.370146\n",
       "Arrival_Mins       0.110945\n",
       "dtype: float64"
      ]
     },
     "execution_count": 369,
     "metadata": {},
     "output_type": "execute_result"
    }
   ],
   "source": [
    "#checking skewness\n",
    "x.skew()"
   ]
  },
  {
   "cell_type": "code",
   "execution_count": 371,
   "metadata": {},
   "outputs": [],
   "source": [
    "#using power transform\n",
    "from sklearn.preprocessing import power_transform\n",
    "df_new=power_transform(x)"
   ]
  },
  {
   "cell_type": "code",
   "execution_count": 372,
   "metadata": {},
   "outputs": [
    {
     "data": {
      "text/plain": [
       "Airline           -0.015281\n",
       "Source            -0.238295\n",
       "Destination        0.041570\n",
       "Route             -0.442919\n",
       "Duration          -0.045479\n",
       "Total_Stops       -0.059185\n",
       "Additional_Info    0.188975\n",
       "Day               -0.203875\n",
       "Month             -0.216730\n",
       "Dep_Hour          -0.104258\n",
       "Dep_Mins          -0.359497\n",
       "Arrival_Hour      -0.356878\n",
       "Arrival_Mins      -0.347628\n",
       "dtype: float64"
      ]
     },
     "execution_count": 372,
     "metadata": {},
     "output_type": "execute_result"
    }
   ],
   "source": [
    "df_new=pd.DataFrame(df_new,columns=x.columns)\n",
    "df_new.skew()"
   ]
  },
  {
   "cell_type": "code",
   "execution_count": 373,
   "metadata": {},
   "outputs": [],
   "source": [
    "x=df_new"
   ]
  },
  {
   "cell_type": "code",
   "execution_count": 382,
   "metadata": {},
   "outputs": [
    {
     "data": {
      "image/png": "[encoded data removed]",
      "text/plain": [
       "<Figure size 1440x1440 with 13 Axes>"
      ]
     },
     "metadata": {},
     "output_type": "display_data"
    }
   ],
   "source": [
    "#Outlier check\n",
    "\n",
    "cols = ['Airline', 'Source', 'Destination', 'Route', 'Duration', 'Total_Stops',\n",
    "       'Additional_Info', 'Day', 'Month', 'Dep_Hour', 'Dep_Mins',\n",
    "       'Arrival_Hour', 'Arrival_Mins']\n",
    "\n",
    "a = 4  # number of rows\n",
    "b = 4  # number of columns\n",
    "c = 1  # initialize plot counter\n",
    "\n",
    "fig = plt.figure(figsize=(20,20))\n",
    "\n",
    "for i in cols:\n",
    "    plt.subplot(a, b, c)\n",
    "    plt.title('{}, subplot: {}{}{}'.format(i, a, b, c))\n",
    "    plt.xlabel(i)\n",
    "    sns.boxplot(x[i])\n",
    "    c = c + 1\n",
    "\n",
    "plt.show()"
   ]
  },
  {
   "cell_type": "markdown",
   "metadata": {},
   "source": [
    "No significant outliers observed. Only few close to the whiskers of the boxplots."
   ]
  },
  {
   "cell_type": "code",
   "execution_count": 383,
   "metadata": {},
   "outputs": [],
   "source": [
    "#Scale the data in x\n",
    "std = StandardScaler()\n",
    "x = std.fit_transform(x)"
   ]
  },
  {
   "cell_type": "markdown",
   "metadata": {},
   "source": [
    "# Random State"
   ]
  },
  {
   "cell_type": "code",
   "execution_count": 385,
   "metadata": {},
   "outputs": [
    {
     "name": "stdout",
     "output_type": "stream",
     "text": [
      "With random state 1, the training accuracy is: 0.9795868796658699\n",
      "With random state 1, the testing accuracy is: 0.8740278901764584\n",
      "\n",
      "\n",
      "With random state 2, the training accuracy is: 0.9800146715684189\n",
      "With random state 2, the testing accuracy is: 0.8677566630219973\n",
      "\n",
      "\n",
      "With random state 3, the training accuracy is: 0.981342821388293\n",
      "With random state 3, the testing accuracy is: 0.8632700550312645\n",
      "\n",
      "\n",
      "With random state 4, the training accuracy is: 0.9776219636379084\n",
      "With random state 4, the testing accuracy is: 0.9082215592287516\n",
      "\n",
      "\n",
      "With random state 5, the training accuracy is: 0.9800785823487673\n",
      "With random state 5, the testing accuracy is: 0.8601755211710425\n",
      "\n",
      "\n",
      "With random state 6, the training accuracy is: 0.9798627310282871\n",
      "With random state 6, the testing accuracy is: 0.8760528989515562\n",
      "\n",
      "\n",
      "With random state 7, the training accuracy is: 0.9808498290099995\n",
      "With random state 7, the testing accuracy is: 0.9043015803063136\n",
      "\n",
      "\n",
      "With random state 8, the training accuracy is: 0.9823695423562725\n",
      "With random state 8, the testing accuracy is: 0.8587485988885012\n",
      "\n",
      "\n",
      "With random state 9, the training accuracy is: 0.980128101171925\n",
      "With random state 9, the testing accuracy is: 0.8924100092424693\n",
      "\n",
      "\n",
      "With random state 10, the training accuracy is: 0.979090920169965\n",
      "With random state 10, the testing accuracy is: 0.884421201709573\n",
      "\n",
      "\n",
      "With random state 11, the training accuracy is: 0.9805223424184705\n",
      "With random state 11, the testing accuracy is: 0.8802310149316469\n",
      "\n",
      "\n",
      "With random state 12, the training accuracy is: 0.9831441695019014\n",
      "With random state 12, the testing accuracy is: 0.8471151934985752\n",
      "\n",
      "\n",
      "With random state 13, the training accuracy is: 0.9788218277404466\n",
      "With random state 13, the testing accuracy is: 0.8923217563753298\n",
      "\n",
      "\n",
      "With random state 14, the training accuracy is: 0.9781012421001032\n",
      "With random state 14, the testing accuracy is: 0.8982793516864677\n",
      "\n",
      "\n",
      "With random state 15, the training accuracy is: 0.9830060831766863\n",
      "With random state 15, the testing accuracy is: 0.870161063350732\n",
      "\n",
      "\n",
      "With random state 16, the training accuracy is: 0.9791822409500716\n",
      "With random state 16, the testing accuracy is: 0.8524519404010906\n",
      "\n",
      "\n",
      "With random state 17, the training accuracy is: 0.9823845142519405\n",
      "With random state 17, the testing accuracy is: 0.845578878232893\n",
      "\n",
      "\n",
      "With random state 18, the training accuracy is: 0.981182784005756\n",
      "With random state 18, the testing accuracy is: 0.870439767041669\n",
      "\n",
      "\n",
      "With random state 19, the training accuracy is: 0.9799526929974698\n",
      "With random state 19, the testing accuracy is: 0.8670742791689716\n",
      "\n",
      "\n",
      "With random state 20, the training accuracy is: 0.9813167807277594\n",
      "With random state 20, the testing accuracy is: 0.8478034735532592\n",
      "\n",
      "\n",
      "With random state 21, the training accuracy is: 0.9797858277610341\n",
      "With random state 21, the testing accuracy is: 0.8996934967085278\n",
      "\n",
      "\n",
      "With random state 22, the training accuracy is: 0.980003239515643\n",
      "With random state 22, the testing accuracy is: 0.9057146104871064\n",
      "\n",
      "\n",
      "With random state 23, the training accuracy is: 0.9823642216954184\n",
      "With random state 23, the testing accuracy is: 0.8532337692624608\n",
      "\n",
      "\n",
      "With random state 24, the training accuracy is: 0.9808981674433896\n",
      "With random state 24, the testing accuracy is: 0.8830910816703226\n",
      "\n",
      "\n",
      "With random state 25, the training accuracy is: 0.9796437995603424\n",
      "With random state 25, the testing accuracy is: 0.8870396650557577\n",
      "\n",
      "\n",
      "With random state 26, the training accuracy is: 0.9818235651344935\n",
      "With random state 26, the testing accuracy is: 0.8773049055088831\n",
      "\n",
      "\n",
      "With random state 27, the training accuracy is: 0.9811350997514452\n",
      "With random state 27, the testing accuracy is: 0.869198192803191\n",
      "\n",
      "\n",
      "With random state 28, the training accuracy is: 0.9788566518255744\n",
      "With random state 28, the testing accuracy is: 0.8684860970787638\n",
      "\n",
      "\n",
      "With random state 29, the training accuracy is: 0.9803555402146074\n",
      "With random state 29, the testing accuracy is: 0.8493375711117194\n",
      "\n",
      "\n",
      "With random state 30, the training accuracy is: 0.9802833290604084\n",
      "With random state 30, the testing accuracy is: 0.880645003845911\n",
      "\n",
      "\n",
      "With random state 31, the training accuracy is: 0.9803846529941941\n",
      "With random state 31, the testing accuracy is: 0.8949323106306868\n",
      "\n",
      "\n",
      "With random state 32, the training accuracy is: 0.9792895218191405\n",
      "With random state 32, the testing accuracy is: 0.9205587391510389\n",
      "\n",
      "\n",
      "With random state 33, the training accuracy is: 0.9814181551532505\n",
      "With random state 33, the testing accuracy is: 0.881617825618081\n",
      "\n",
      "\n",
      "With random state 34, the training accuracy is: 0.9797718114982541\n",
      "With random state 34, the testing accuracy is: 0.8880591598880135\n",
      "\n",
      "\n",
      "With random state 35, the training accuracy is: 0.9809076682639867\n",
      "With random state 35, the testing accuracy is: 0.8501185117676\n",
      "\n",
      "\n",
      "With random state 36, the training accuracy is: 0.9806105323235623\n",
      "With random state 36, the testing accuracy is: 0.8577401832984173\n",
      "\n",
      "\n",
      "With random state 37, the training accuracy is: 0.9797720386842712\n",
      "With random state 37, the testing accuracy is: 0.8602329177900696\n",
      "\n",
      "\n",
      "With random state 38, the training accuracy is: 0.9770564044095785\n",
      "With random state 38, the testing accuracy is: 0.905766441987949\n",
      "\n",
      "\n",
      "With random state 39, the training accuracy is: 0.9810486237785848\n",
      "With random state 39, the testing accuracy is: 0.8655909180024471\n",
      "\n",
      "\n",
      "With random state 40, the training accuracy is: 0.9798214638690881\n",
      "With random state 40, the testing accuracy is: 0.8782831500353951\n",
      "\n",
      "\n",
      "With random state 41, the training accuracy is: 0.9820540456873129\n",
      "With random state 41, the testing accuracy is: 0.8514288106506985\n",
      "\n",
      "\n",
      "With random state 42, the training accuracy is: 0.9820653038220137\n",
      "With random state 42, the testing accuracy is: 0.866027924669078\n",
      "\n",
      "\n",
      "With random state 43, the training accuracy is: 0.980111879873206\n",
      "With random state 43, the testing accuracy is: 0.8795569599965128\n",
      "\n",
      "\n",
      "With random state 44, the training accuracy is: 0.9788744787881312\n",
      "With random state 44, the testing accuracy is: 0.8528568833267953\n",
      "\n",
      "\n",
      "With random state 45, the training accuracy is: 0.9810291449786511\n",
      "With random state 45, the testing accuracy is: 0.8593576763525265\n",
      "\n",
      "\n",
      "With random state 46, the training accuracy is: 0.9797013896806681\n",
      "With random state 46, the testing accuracy is: 0.8940825501074624\n",
      "\n",
      "\n",
      "With random state 47, the training accuracy is: 0.9824046867787927\n",
      "With random state 47, the testing accuracy is: 0.8469049436792286\n",
      "\n",
      "\n",
      "With random state 48, the training accuracy is: 0.9790558497960605\n",
      "With random state 48, the testing accuracy is: 0.8682291512153153\n",
      "\n",
      "\n",
      "With random state 49, the training accuracy is: 0.9779927942126483\n",
      "With random state 49, the testing accuracy is: 0.8970194823189843\n",
      "\n",
      "\n",
      "With random state 50, the training accuracy is: 0.9801927852713993\n",
      "With random state 50, the testing accuracy is: 0.8737498576902114\n",
      "\n",
      "\n",
      "With random state 51, the training accuracy is: 0.9780465686321246\n",
      "With random state 51, the testing accuracy is: 0.9231785571492903\n",
      "\n",
      "\n",
      "With random state 52, the training accuracy is: 0.979122989459569\n",
      "With random state 52, the testing accuracy is: 0.8829612613517202\n",
      "\n",
      "\n",
      "With random state 53, the training accuracy is: 0.9778474188037481\n",
      "With random state 53, the testing accuracy is: 0.8969833929476416\n",
      "\n",
      "\n",
      "With random state 54, the training accuracy is: 0.9794755948409049\n",
      "With random state 54, the testing accuracy is: 0.8843906393866485\n",
      "\n",
      "\n",
      "With random state 55, the training accuracy is: 0.9808798850082692\n",
      "With random state 55, the testing accuracy is: 0.8335949194526746\n",
      "\n",
      "\n",
      "With random state 56, the training accuracy is: 0.9790591687817229\n",
      "With random state 56, the testing accuracy is: 0.8416674500277892\n",
      "\n",
      "\n",
      "With random state 57, the training accuracy is: 0.9799606666027991\n",
      "With random state 57, the testing accuracy is: 0.881261185799556\n",
      "\n",
      "\n",
      "With random state 58, the training accuracy is: 0.9789116258128193\n",
      "With random state 58, the testing accuracy is: 0.9019896552666123\n",
      "\n",
      "\n",
      "With random state 59, the training accuracy is: 0.9791608946078938\n",
      "With random state 59, the testing accuracy is: 0.891822758137735\n",
      "\n",
      "\n",
      "With random state 60, the training accuracy is: 0.9810017278231025\n",
      "With random state 60, the testing accuracy is: 0.8402857052575005\n",
      "\n",
      "\n",
      "With random state 61, the training accuracy is: 0.9812598659910505\n",
      "With random state 61, the testing accuracy is: 0.8876932685331824\n",
      "\n",
      "\n"
     ]
    },
    {
     "name": "stdout",
     "output_type": "stream",
     "text": [
      "With random state 62, the training accuracy is: 0.980897653367843\n",
      "With random state 62, the testing accuracy is: 0.8745708163362548\n",
      "\n",
      "\n",
      "With random state 63, the training accuracy is: 0.9824493094363197\n",
      "With random state 63, the testing accuracy is: 0.8533376011281779\n",
      "\n",
      "\n",
      "With random state 64, the training accuracy is: 0.9803637555175345\n",
      "With random state 64, the testing accuracy is: 0.9082525114266892\n",
      "\n",
      "\n",
      "With random state 65, the training accuracy is: 0.9815761338238097\n",
      "With random state 65, the testing accuracy is: 0.8619114530943673\n",
      "\n",
      "\n",
      "With random state 66, the training accuracy is: 0.9799191624065059\n",
      "With random state 66, the testing accuracy is: 0.8657234324716563\n",
      "\n",
      "\n",
      "With random state 67, the training accuracy is: 0.9796524440864968\n",
      "With random state 67, the testing accuracy is: 0.917936120913114\n",
      "\n",
      "\n",
      "With random state 68, the training accuracy is: 0.9791113500071715\n",
      "With random state 68, the testing accuracy is: 0.8856680524619408\n",
      "\n",
      "\n",
      "With random state 69, the training accuracy is: 0.9795869243489204\n",
      "With random state 69, the testing accuracy is: 0.8981423790444918\n",
      "\n",
      "\n",
      "With random state 70, the training accuracy is: 0.9786118832644985\n",
      "With random state 70, the testing accuracy is: 0.9074115365106422\n",
      "\n",
      "\n",
      "With random state 71, the training accuracy is: 0.981907367020563\n",
      "With random state 71, the testing accuracy is: 0.8545919025815584\n",
      "\n",
      "\n",
      "With random state 72, the training accuracy is: 0.9792111663210182\n",
      "With random state 72, the testing accuracy is: 0.8923453095475767\n",
      "\n",
      "\n",
      "With random state 73, the training accuracy is: 0.9805646262933788\n",
      "With random state 73, the testing accuracy is: 0.8898140254064063\n",
      "\n",
      "\n",
      "With random state 74, the training accuracy is: 0.9810668289172532\n",
      "With random state 74, the testing accuracy is: 0.8456470277701796\n",
      "\n",
      "\n",
      "With random state 75, the training accuracy is: 0.9809691495083575\n",
      "With random state 75, the testing accuracy is: 0.8653036513207591\n",
      "\n",
      "\n",
      "With random state 76, the training accuracy is: 0.9803789186452181\n",
      "With random state 76, the testing accuracy is: 0.8517786220590146\n",
      "\n",
      "\n",
      "With random state 77, the training accuracy is: 0.9778738957722097\n",
      "With random state 77, the testing accuracy is: 0.9003850852863937\n",
      "\n",
      "\n",
      "With random state 78, the training accuracy is: 0.9819260476466414\n",
      "With random state 78, the testing accuracy is: 0.8403514492437112\n",
      "\n",
      "\n",
      "With random state 79, the training accuracy is: 0.9793473277147623\n",
      "With random state 79, the testing accuracy is: 0.8695545441244515\n",
      "\n",
      "\n",
      "With random state 80, the training accuracy is: 0.9770342113369909\n",
      "With random state 80, the testing accuracy is: 0.8925823182633655\n",
      "\n",
      "\n",
      "With random state 81, the training accuracy is: 0.9802047850057418\n",
      "With random state 81, the testing accuracy is: 0.8596533578628649\n",
      "\n",
      "\n",
      "With random state 82, the training accuracy is: 0.9832055962339795\n",
      "With random state 82, the testing accuracy is: 0.8329579868682386\n",
      "\n",
      "\n",
      "With random state 83, the training accuracy is: 0.981272914196304\n",
      "With random state 83, the testing accuracy is: 0.8241551517424754\n",
      "\n",
      "\n",
      "With random state 84, the training accuracy is: 0.9795085442963545\n",
      "With random state 84, the testing accuracy is: 0.9048006793215616\n",
      "\n",
      "\n",
      "With random state 85, the training accuracy is: 0.9790988279454969\n",
      "With random state 85, the testing accuracy is: 0.8911920298108676\n",
      "\n",
      "\n",
      "With random state 86, the training accuracy is: 0.9817033265779774\n",
      "With random state 86, the testing accuracy is: 0.8383811468153262\n",
      "\n",
      "\n",
      "With random state 87, the training accuracy is: 0.9800323494458572\n",
      "With random state 87, the testing accuracy is: 0.8779529486942141\n",
      "\n",
      "\n",
      "With random state 88, the training accuracy is: 0.980013349912329\n",
      "With random state 88, the testing accuracy is: 0.884336162543897\n",
      "\n",
      "\n",
      "With random state 89, the training accuracy is: 0.9770391985307879\n",
      "With random state 89, the testing accuracy is: 0.8989158999289983\n",
      "\n",
      "\n",
      "With random state 90, the training accuracy is: 0.9818278039890855\n",
      "With random state 90, the testing accuracy is: 0.8244002506614051\n",
      "\n",
      "\n",
      "With random state 91, the training accuracy is: 0.9830773939380744\n",
      "With random state 91, the testing accuracy is: 0.8606834827553825\n",
      "\n",
      "\n",
      "With random state 92, the training accuracy is: 0.9818434787454942\n",
      "With random state 92, the testing accuracy is: 0.8687045177864967\n",
      "\n",
      "\n",
      "With random state 93, the training accuracy is: 0.9790098451263544\n",
      "With random state 93, the testing accuracy is: 0.9092338081189266\n",
      "\n",
      "\n",
      "With random state 94, the training accuracy is: 0.9798151794809903\n",
      "With random state 94, the testing accuracy is: 0.8733326128907549\n",
      "\n",
      "\n",
      "With random state 95, the training accuracy is: 0.9817368106879851\n",
      "With random state 95, the testing accuracy is: 0.871780910816496\n",
      "\n",
      "\n",
      "With random state 96, the training accuracy is: 0.9785696085439215\n",
      "With random state 96, the testing accuracy is: 0.8870078521031044\n",
      "\n",
      "\n",
      "With random state 97, the training accuracy is: 0.9809414818170592\n",
      "With random state 97, the testing accuracy is: 0.8867173995707198\n",
      "\n",
      "\n",
      "With random state 98, the training accuracy is: 0.9809943285933017\n",
      "With random state 98, the testing accuracy is: 0.9155890058250084\n",
      "\n",
      "\n",
      "With random state 99, the training accuracy is: 0.9783738978847776\n",
      "With random state 99, the testing accuracy is: 0.9015611259482351\n",
      "\n",
      "\n"
     ]
    }
   ],
   "source": [
    "for i in range(1,100):\n",
    "    x_train,x_test,y_train,y_test= train_test_split(x,y, test_size=0.25, random_state=i)\n",
    "    RF= RandomForestRegressor()\n",
    "    RF.fit(x_train,y_train)\n",
    "    pred_train=RF.predict(x_train)\n",
    "    pred_test = RF.predict(x_test)\n",
    "    print(f\"With random state {i}, the training accuracy is: {r2_score(y_train, pred_train)}\")\n",
    "    print(f\"With random state {i}, the testing accuracy is: {r2_score(y_test, pred_test)}\")\n",
    "    print(\"\\n\")"
   ]
  },
  {
   "cell_type": "code",
   "execution_count": 386,
   "metadata": {},
   "outputs": [],
   "source": [
    "x_train,x_test, y_train,y_test= train_test_split(x,y,test_size=0.25, random_state=51)"
   ]
  },
  {
   "cell_type": "markdown",
   "metadata": {},
   "source": [
    "Testing Multiple Models"
   ]
  },
  {
   "cell_type": "code",
   "execution_count": 387,
   "metadata": {},
   "outputs": [
    {
     "data": {
      "text/plain": [
       "{'XGB': 1489.2463766861658,\n",
       " 'RF': 1579.1800726436759,\n",
       " 'GBM': 1864.0756279675957,\n",
       " 'DTR': 1962.1954054021844,\n",
       " 'KNN': 2363.9686584406763,\n",
       " 'Ridge': 3069.8446572445537,\n",
       " 'Lasso': 3069.8491741157172,\n",
       " 'Linear': 3069.870313769533,\n",
       " 'ElasticNet': 3177.808422197618}"
      ]
     },
     "execution_count": 387,
     "metadata": {},
     "output_type": "execute_result"
    }
   ],
   "source": [
    "model_grid = {\"Linear\": LinearRegression(),\n",
    "              \"Ridge\": Ridge(),\n",
    "              \"Lasso\": Lasso(),\n",
    "              \"ElasticNet\": ElasticNet(),\n",
    "              \"KNN\": KNeighborsRegressor(),\n",
    "              \"DTR\": DecisionTreeRegressor(),\n",
    "              \"RF\": RandomForestRegressor(random_state=84),\n",
    "              \"XGB\": xgb.XGBRegressor(),\n",
    "              \"GBM\": GradientBoostingRegressor()}\n",
    "\n",
    "scores_dict = {}\n",
    "for name, model in model_grid.items():\n",
    "    model.fit(x_train, y_train)\n",
    "    rmse = np.mean(np.sqrt(-cross_val_score(model, x_test, y_test, cv=10, scoring=\"neg_mean_squared_error\")))\n",
    "    scores_dict[name] = rmse\n",
    "\n",
    "scores_dict = {k: v for k, v in sorted(scores_dict.items(), key=lambda item: item[1])}\n",
    "scores_dict"
   ]
  },
  {
   "cell_type": "markdown",
   "metadata": {},
   "source": [
    "# Hyper Parameter Tuning"
   ]
  },
  {
   "cell_type": "code",
   "execution_count": 402,
   "metadata": {},
   "outputs": [
    {
     "name": "stdout",
     "output_type": "stream",
     "text": [
      "Fitting 10 folds for each of 9 candidates, totalling 90 fits\n"
     ]
    },
    {
     "name": "stderr",
     "output_type": "stream",
     "text": [
      "[Parallel(n_jobs=-1)]: Using backend LokyBackend with 4 concurrent workers.\n",
      "[Parallel(n_jobs=-1)]: Done  42 tasks      | elapsed:   17.1s\n",
      "[Parallel(n_jobs=-1)]: Done  90 out of  90 | elapsed:   55.5s finished\n"
     ]
    }
   ],
   "source": [
    "# GBM Regressor\n",
    "\n",
    "\n",
    "gb_model = GradientBoostingRegressor()\n",
    "\n",
    "\n",
    "gb_params = {\"n_estimators\":[5,50,250],\n",
    "    \"learning_rate\":[0.01,0.1,0.2] }\n",
    "\n",
    "\n",
    "gb_cv_model = GridSearchCV(gb_model, gb_params, cv=10, n_jobs=-1, verbose=1).fit(x_train, y_train)\n",
    "\n",
    "\n",
    "gb_tuned = GradientBoostingRegressor(**gb_cv_model.best_params_).fit(x_train, y_train)"
   ]
  },
  {
   "cell_type": "code",
   "execution_count": 392,
   "metadata": {},
   "outputs": [
    {
     "name": "stdout",
     "output_type": "stream",
     "text": [
      "Fitting 10 folds for each of 18 candidates, totalling 180 fits\n"
     ]
    },
    {
     "name": "stderr",
     "output_type": "stream",
     "text": [
      "[Parallel(n_jobs=-1)]: Using backend LokyBackend with 4 concurrent workers.\n",
      "[Parallel(n_jobs=-1)]: Done  42 tasks      | elapsed:  1.3min\n",
      "[Parallel(n_jobs=-1)]: Done 180 out of 180 | elapsed:  7.9min finished\n"
     ]
    }
   ],
   "source": [
    "# Random Forests Regressor\n",
    "\n",
    "\n",
    "rf_model = RandomForestRegressor(random_state=6106)\n",
    "\n",
    "\n",
    "rf_params = {\"max_depth\": [5, 8, None],\n",
    "             \"n_estimators\": [200, 500],\n",
    "             \"min_samples_split\": [2, 5, 10]}\n",
    "\n",
    "\n",
    "rf_cv_model = GridSearchCV(rf_model, rf_params, cv=10, n_jobs=-1, verbose=1).fit(x_train, y_train)\n",
    "\n",
    "\n",
    "rf_tuned = RandomForestRegressor(**rf_cv_model.best_params_).fit(x_train, y_train)"
   ]
  },
  {
   "cell_type": "code",
   "execution_count": 401,
   "metadata": {},
   "outputs": [
    {
     "name": "stdout",
     "output_type": "stream",
     "text": [
      "Fitting 10 folds for each of 27 candidates, totalling 270 fits\n"
     ]
    },
    {
     "name": "stderr",
     "output_type": "stream",
     "text": [
      "[Parallel(n_jobs=-1)]: Using backend LokyBackend with 4 concurrent workers.\n",
      "[Parallel(n_jobs=-1)]: Done  42 tasks      | elapsed:   22.1s\n",
      "[Parallel(n_jobs=-1)]: Done 192 tasks      | elapsed:  1.9min\n",
      "[Parallel(n_jobs=-1)]: Done 270 out of 270 | elapsed:  2.7min finished\n"
     ]
    }
   ],
   "source": [
    "# XGB Regressor\n",
    "\n",
    "\n",
    "xgb_model = XGBRegressor()\n",
    "\n",
    "\n",
    "xgb_param = {\"learning_rate\"    : [0.05, 0.10, 0.15 ] ,\n",
    " \"max_depth\"        : [ 3, 4, 5,],\n",
    " \"min_child_weight\" : [ 1, 3, 5,  ] }\n",
    "\n",
    "\n",
    "xgb_cv_model = GridSearchCV(xgb_model, xgb_param, cv=10, n_jobs=-1, verbose=1).fit(x_train, y_train)\n",
    "\n",
    "\n",
    "xgb_tuned = XGBRegressor(**xgb_cv_model.best_params_).fit(x_train, y_train)"
   ]
  },
  {
   "cell_type": "code",
   "execution_count": 403,
   "metadata": {},
   "outputs": [
    {
     "data": {
      "text/plain": [
       "{'RF': 1226.868296144605}"
      ]
     },
     "execution_count": 403,
     "metadata": {},
     "output_type": "execute_result"
    }
   ],
   "source": [
    "from sklearn.metrics import mean_squared_error\n",
    "from itertools import islice\n",
    "\n",
    "# set tuned models\n",
    "tuned_grid = dict([(\"RF\", rf_tuned), (\"XGB\", xgb_tuned), (\"GradientBoost\", gb_tuned)])\n",
    "\n",
    "# get rmse values from tuned models\n",
    "tuned_scores = {}\n",
    "for name, model in tuned_grid.items():\n",
    "    y_pred = model.predict(x_test)\n",
    "    rmse = np.sqrt(mean_squared_error(y_test, y_pred))\n",
    "    tuned_scores[name] = rmse\n",
    "\n",
    "# sorting rmse\n",
    "tuned_scores = {k: v for k, v in sorted(tuned_scores.items(), key=lambda item: item[1])}\n",
    "\n",
    "# choose best model\n",
    "best_model = dict(islice(tuned_scores.items(), 1))\n",
    "best_model"
   ]
  },
  {
   "cell_type": "code",
   "execution_count": 404,
   "metadata": {},
   "outputs": [],
   "source": [
    "import pickle\n",
    "filename= 'flightprices.pkl'\n",
    "pickle.dump(rf_tuned, open(filename, 'wb'))"
   ]
  },
  {
   "cell_type": "markdown",
   "metadata": {},
   "source": [
    "Using best fit model on the Test dataset"
   ]
  },
  {
   "cell_type": "code",
   "execution_count": 405,
   "metadata": {},
   "outputs": [],
   "source": [
    "fitted_model=pickle.load(open(\"flightprices.pkl\",\"rb\"))"
   ]
  },
  {
   "cell_type": "code",
   "execution_count": 406,
   "metadata": {},
   "outputs": [
    {
     "data": {
      "text/plain": [
       "RandomForestRegressor(n_estimators=500)"
      ]
     },
     "execution_count": 406,
     "metadata": {},
     "output_type": "execute_result"
    }
   ],
   "source": [
    "fitted_model"
   ]
  },
  {
   "cell_type": "markdown",
   "metadata": {},
   "source": [
    "Predicted Output Array"
   ]
  },
  {
   "cell_type": "code",
   "execution_count": 407,
   "metadata": {},
   "outputs": [],
   "source": [
    "predictions=fitted_model.predict(test)"
   ]
  },
  {
   "cell_type": "code",
   "execution_count": 408,
   "metadata": {},
   "outputs": [
    {
     "data": {
      "text/plain": [
       "array([20862.664, 20923.286, 17366.034, ..., 20862.664, 21311.956,\n",
       "       20862.664])"
      ]
     },
     "execution_count": 408,
     "metadata": {},
     "output_type": "execute_result"
    }
   ],
   "source": [
    "predictions"
   ]
  }
 ],
 "metadata": {
  "kernelspec": {
   "display_name": "Python 3",
   "language": "python",
   "name": "python3"
  },
  "language_info": {
   "codemirror_mode": {
    "name": "ipython",
    "version": 3
   },
   "file_extension": ".py",
   "mimetype": "text/x-python",
   "name": "python",
   "nbconvert_exporter": "python",
   "pygments_lexer": "ipython3",
   "version": "3.8.3"
  }
 },
 "nbformat": 4,
 "nbformat_minor": 4
}
